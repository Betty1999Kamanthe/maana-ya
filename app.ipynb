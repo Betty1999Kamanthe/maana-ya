{
 "cells": [
  {
   "cell_type": "code",
   "execution_count": 1,
   "metadata": {},
   "outputs": [],
   "source": [
    "import numpy as np\n",
    "from fastapi import FastAPI, Form\n",
    "import pandas as pd\n",
    "from starlette.responses import HTMLResponse\n",
    "import re\n",
    "from tensorflow.keras.preprocessing.text import Tokenizer\n",
    "from tensorflow.keras.preprocessing.sequence import pad_sequences\n",
    "import tensorflow as tf"
   ]
  },
  {
   "cell_type": "code",
   "execution_count": 10,
   "metadata": {},
   "outputs": [],
   "source": [
    "app = FastAPI()\n",
    "@app.get('/predict', response_class = HTMLResponse)\n",
    "\n",
    "def take_input():\n",
    "    return '''<form method=\"post\">\n",
    "    <input maxlength=\"28\" name=\"text\" type=\"text\" value=\"Text Emotion to be tested\" />\n",
    "    <input type=\"submit\" />'''\n",
    "    "
   ]
  },
  {
   "cell_type": "code",
   "execution_count": 4,
   "metadata": {},
   "outputs": [],
   "source": [
    "data = pd.read_csv('Sentiment.csv')\n",
    "tokenizer = Tokenizer(num_words=2000, split=' ')\n",
    "tokenizer.fit_on_texts(data['text'].values)\n",
    "\n",
    "def preProcess_data(text):\n",
    "    text = text.lower()\n",
    "    new_text = re.sub('[^a-zA-z0-9\\s]','',text)\n",
    "    new_text = re.sub('rt', '', new_text)\n",
    "    return new_text\n",
    "\n",
    "def my_pipeline(text):\n",
    "    text_new = preProcess_data(text)\n",
    "    X = tokenizer.texts_to_sequences(pd.Series(text_new).values)\n",
    "    X = pad_sequences(X, maxlen=28)\n",
    "    return X"
   ]
  },
  {
   "cell_type": "markdown",
   "metadata": {},
   "source": [
    "#### Creating a POST request"
   ]
  },
  {
   "cell_type": "code",
   "execution_count": 6,
   "metadata": {},
   "outputs": [],
   "source": [
    "@app.post('/predict')\n",
    "\n",
    "def predict(text:str = Form(...)):\n",
    "    #clean, and preprocess the text through pipeline\n",
    "    clean_text = my_pipeline(text)\n",
    "    loaded_model = tf.keras.models.load_model('sentiment.h5')\n",
    "    predictions = loaded_model.predict(clean_text)\n",
    "    #calculate the index of max sentiment\n",
    "    sentiment = int(np.argmax(predictions))\n",
    "    probability = max(predictions.tolist()[0]) #calulate the probability\n",
    "    \n",
    "    if sentiment == 0:\n",
    "        t_sentiment = 'negative' #set appropriate sentiment\n",
    "    elif sentiment==1:\n",
    "         t_sentiment = 'neutral'\n",
    "    elif sentiment==2:\n",
    "         t_sentiment='postive'\n",
    "    return { #return the dictionary for endpoint\n",
    "         \"ACTUALL SENTENCE\": text,\n",
    "         \"PREDICTED SENTIMENT\": t_sentiment,\n",
    "         \"Probability\": probability\n",
    "    }"
   ]
  },
  {
   "cell_type": "code",
   "execution_count": 11,
   "metadata": {},
   "outputs": [
    {
     "name": "stdout",
     "output_type": "stream",
     "text": [
      "3.7.4 (default, Aug 13 2019, 20:35:49) \n",
      "[GCC 7.3.0]\n"
     ]
    }
   ],
   "source": [
    "import sys \n",
    "print(sys.version)"
   ]
  },
  {
   "cell_type": "code",
   "execution_count": null,
   "metadata": {},
   "outputs": [],
   "source": []
  }
 ],
 "metadata": {
  "kernelspec": {
   "display_name": "Python 3",
   "language": "python",
   "name": "python3"
  },
  "language_info": {
   "codemirror_mode": {
    "name": "ipython",
    "version": 3
   },
   "file_extension": ".py",
   "mimetype": "text/x-python",
   "name": "python",
   "nbconvert_exporter": "python",
   "pygments_lexer": "ipython3",
   "version": "3.7.4"
  }
 },
 "nbformat": 4,
 "nbformat_minor": 2
}
